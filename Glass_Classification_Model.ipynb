{
  "nbformat": 4,
  "nbformat_minor": 0,
  "metadata": {
    "colab": {
      "name": "Glass Classification Model.ipynb",
      "provenance": [],
      "collapsed_sections": []
    },
    "kernelspec": {
      "name": "python3",
      "display_name": "Python 3"
    },
    "language_info": {
      "name": "python"
    }
  },
  "cells": [
    {
      "cell_type": "markdown",
      "metadata": {
        "id": "f5h7sRs17QZG"
      },
      "source": [
        "# **Importing  Libraries**"
      ]
    },
    {
      "cell_type": "code",
      "metadata": {
        "id": "92TSo2Gf7eOb"
      },
      "source": [
        "import numpy as np\n",
        "import pandas as pd \n",
        "import seaborn as sns\n",
        "import matplotlib.pyplot as plt"
      ],
      "execution_count": 64,
      "outputs": []
    },
    {
      "cell_type": "markdown",
      "metadata": {
        "id": "zl7x5Xiu-LF4"
      },
      "source": [
        "# **Dataset Loading**"
      ]
    },
    {
      "cell_type": "code",
      "metadata": {
        "id": "z-Zk348--Qnw"
      },
      "source": [
        "dataset = pd.read_csv('https://raw.githubusercontent.com/tanim913/machine-learning-python/main/1.%20Data-Preprocessing/glass.csv')"
      ],
      "execution_count": 65,
      "outputs": []
    },
    {
      "cell_type": "code",
      "metadata": {
        "colab": {
          "base_uri": "https://localhost:8080/",
          "height": 204
        },
        "id": "dKm4Lq9S-hrv",
        "outputId": "f0634d88-5291-46b3-a656-d11d63937563"
      },
      "source": [
        "dataset.head()"
      ],
      "execution_count": 66,
      "outputs": [
        {
          "output_type": "execute_result",
          "data": {
            "text/html": [
              "<div>\n",
              "<style scoped>\n",
              "    .dataframe tbody tr th:only-of-type {\n",
              "        vertical-align: middle;\n",
              "    }\n",
              "\n",
              "    .dataframe tbody tr th {\n",
              "        vertical-align: top;\n",
              "    }\n",
              "\n",
              "    .dataframe thead th {\n",
              "        text-align: right;\n",
              "    }\n",
              "</style>\n",
              "<table border=\"1\" class=\"dataframe\">\n",
              "  <thead>\n",
              "    <tr style=\"text-align: right;\">\n",
              "      <th></th>\n",
              "      <th>RI</th>\n",
              "      <th>Na</th>\n",
              "      <th>Mg</th>\n",
              "      <th>Al</th>\n",
              "      <th>Si</th>\n",
              "      <th>K</th>\n",
              "      <th>Ca</th>\n",
              "      <th>Ba</th>\n",
              "      <th>Fe</th>\n",
              "      <th>Type</th>\n",
              "    </tr>\n",
              "  </thead>\n",
              "  <tbody>\n",
              "    <tr>\n",
              "      <th>0</th>\n",
              "      <td>1.52101</td>\n",
              "      <td>13.64</td>\n",
              "      <td>4.49</td>\n",
              "      <td>1.10</td>\n",
              "      <td>71.78</td>\n",
              "      <td>0.06</td>\n",
              "      <td>8.75</td>\n",
              "      <td>0.0</td>\n",
              "      <td>0.0</td>\n",
              "      <td>1</td>\n",
              "    </tr>\n",
              "    <tr>\n",
              "      <th>1</th>\n",
              "      <td>1.51761</td>\n",
              "      <td>13.89</td>\n",
              "      <td>3.60</td>\n",
              "      <td>1.36</td>\n",
              "      <td>72.73</td>\n",
              "      <td>0.48</td>\n",
              "      <td>7.83</td>\n",
              "      <td>0.0</td>\n",
              "      <td>0.0</td>\n",
              "      <td>1</td>\n",
              "    </tr>\n",
              "    <tr>\n",
              "      <th>2</th>\n",
              "      <td>1.51618</td>\n",
              "      <td>13.53</td>\n",
              "      <td>3.55</td>\n",
              "      <td>1.54</td>\n",
              "      <td>72.99</td>\n",
              "      <td>0.39</td>\n",
              "      <td>7.78</td>\n",
              "      <td>0.0</td>\n",
              "      <td>0.0</td>\n",
              "      <td>1</td>\n",
              "    </tr>\n",
              "    <tr>\n",
              "      <th>3</th>\n",
              "      <td>1.51766</td>\n",
              "      <td>13.21</td>\n",
              "      <td>3.69</td>\n",
              "      <td>1.29</td>\n",
              "      <td>72.61</td>\n",
              "      <td>0.57</td>\n",
              "      <td>8.22</td>\n",
              "      <td>0.0</td>\n",
              "      <td>0.0</td>\n",
              "      <td>1</td>\n",
              "    </tr>\n",
              "    <tr>\n",
              "      <th>4</th>\n",
              "      <td>1.51742</td>\n",
              "      <td>13.27</td>\n",
              "      <td>3.62</td>\n",
              "      <td>1.24</td>\n",
              "      <td>73.08</td>\n",
              "      <td>0.55</td>\n",
              "      <td>8.07</td>\n",
              "      <td>0.0</td>\n",
              "      <td>0.0</td>\n",
              "      <td>1</td>\n",
              "    </tr>\n",
              "  </tbody>\n",
              "</table>\n",
              "</div>"
            ],
            "text/plain": [
              "        RI     Na    Mg    Al     Si     K    Ca   Ba   Fe  Type\n",
              "0  1.52101  13.64  4.49  1.10  71.78  0.06  8.75  0.0  0.0     1\n",
              "1  1.51761  13.89  3.60  1.36  72.73  0.48  7.83  0.0  0.0     1\n",
              "2  1.51618  13.53  3.55  1.54  72.99  0.39  7.78  0.0  0.0     1\n",
              "3  1.51766  13.21  3.69  1.29  72.61  0.57  8.22  0.0  0.0     1\n",
              "4  1.51742  13.27  3.62  1.24  73.08  0.55  8.07  0.0  0.0     1"
            ]
          },
          "metadata": {},
          "execution_count": 66
        }
      ]
    },
    {
      "cell_type": "code",
      "metadata": {
        "colab": {
          "base_uri": "https://localhost:8080/",
          "height": 0
        },
        "id": "6uVzzpDi-p6H",
        "outputId": "7743f6b6-8b58-461b-88ff-b8335c7a86e2"
      },
      "source": [
        "#checking data type and null values\n",
        "dataset.info()"
      ],
      "execution_count": 67,
      "outputs": [
        {
          "output_type": "stream",
          "name": "stdout",
          "text": [
            "<class 'pandas.core.frame.DataFrame'>\n",
            "RangeIndex: 214 entries, 0 to 213\n",
            "Data columns (total 10 columns):\n",
            " #   Column  Non-Null Count  Dtype  \n",
            "---  ------  --------------  -----  \n",
            " 0   RI      214 non-null    float64\n",
            " 1   Na      214 non-null    float64\n",
            " 2   Mg      214 non-null    float64\n",
            " 3   Al      214 non-null    float64\n",
            " 4   Si      214 non-null    float64\n",
            " 5   K       214 non-null    float64\n",
            " 6   Ca      214 non-null    float64\n",
            " 7   Ba      214 non-null    float64\n",
            " 8   Fe      214 non-null    float64\n",
            " 9   Type    214 non-null    int64  \n",
            "dtypes: float64(9), int64(1)\n",
            "memory usage: 16.8 KB\n"
          ]
        }
      ]
    },
    {
      "cell_type": "code",
      "metadata": {
        "colab": {
          "base_uri": "https://localhost:8080/",
          "height": 0
        },
        "id": "uGLY7Ivr-to_",
        "outputId": "bfbb4636-da49-476e-e2da-b2f043173207"
      },
      "source": [
        "#checking null values\n",
        "dataset.isna().sum()"
      ],
      "execution_count": 68,
      "outputs": [
        {
          "output_type": "execute_result",
          "data": {
            "text/plain": [
              "RI      0\n",
              "Na      0\n",
              "Mg      0\n",
              "Al      0\n",
              "Si      0\n",
              "K       0\n",
              "Ca      0\n",
              "Ba      0\n",
              "Fe      0\n",
              "Type    0\n",
              "dtype: int64"
            ]
          },
          "metadata": {},
          "execution_count": 68
        }
      ]
    },
    {
      "cell_type": "code",
      "metadata": {
        "colab": {
          "base_uri": "https://localhost:8080/",
          "height": 297
        },
        "id": "LvGW9Z0L-xNH",
        "outputId": "00c88926-caed-44a1-f748-660c76b204a7"
      },
      "source": [
        "#checking Over of data distribution\n",
        "dataset.describe()"
      ],
      "execution_count": 69,
      "outputs": [
        {
          "output_type": "execute_result",
          "data": {
            "text/html": [
              "<div>\n",
              "<style scoped>\n",
              "    .dataframe tbody tr th:only-of-type {\n",
              "        vertical-align: middle;\n",
              "    }\n",
              "\n",
              "    .dataframe tbody tr th {\n",
              "        vertical-align: top;\n",
              "    }\n",
              "\n",
              "    .dataframe thead th {\n",
              "        text-align: right;\n",
              "    }\n",
              "</style>\n",
              "<table border=\"1\" class=\"dataframe\">\n",
              "  <thead>\n",
              "    <tr style=\"text-align: right;\">\n",
              "      <th></th>\n",
              "      <th>RI</th>\n",
              "      <th>Na</th>\n",
              "      <th>Mg</th>\n",
              "      <th>Al</th>\n",
              "      <th>Si</th>\n",
              "      <th>K</th>\n",
              "      <th>Ca</th>\n",
              "      <th>Ba</th>\n",
              "      <th>Fe</th>\n",
              "      <th>Type</th>\n",
              "    </tr>\n",
              "  </thead>\n",
              "  <tbody>\n",
              "    <tr>\n",
              "      <th>count</th>\n",
              "      <td>214.000000</td>\n",
              "      <td>214.000000</td>\n",
              "      <td>214.000000</td>\n",
              "      <td>214.000000</td>\n",
              "      <td>214.000000</td>\n",
              "      <td>214.000000</td>\n",
              "      <td>214.000000</td>\n",
              "      <td>214.000000</td>\n",
              "      <td>214.000000</td>\n",
              "      <td>214.000000</td>\n",
              "    </tr>\n",
              "    <tr>\n",
              "      <th>mean</th>\n",
              "      <td>1.518365</td>\n",
              "      <td>13.407850</td>\n",
              "      <td>2.684533</td>\n",
              "      <td>1.444907</td>\n",
              "      <td>72.650935</td>\n",
              "      <td>0.497056</td>\n",
              "      <td>8.956963</td>\n",
              "      <td>0.175047</td>\n",
              "      <td>0.057009</td>\n",
              "      <td>2.780374</td>\n",
              "    </tr>\n",
              "    <tr>\n",
              "      <th>std</th>\n",
              "      <td>0.003037</td>\n",
              "      <td>0.816604</td>\n",
              "      <td>1.442408</td>\n",
              "      <td>0.499270</td>\n",
              "      <td>0.774546</td>\n",
              "      <td>0.652192</td>\n",
              "      <td>1.423153</td>\n",
              "      <td>0.497219</td>\n",
              "      <td>0.097439</td>\n",
              "      <td>2.103739</td>\n",
              "    </tr>\n",
              "    <tr>\n",
              "      <th>min</th>\n",
              "      <td>1.511150</td>\n",
              "      <td>10.730000</td>\n",
              "      <td>0.000000</td>\n",
              "      <td>0.290000</td>\n",
              "      <td>69.810000</td>\n",
              "      <td>0.000000</td>\n",
              "      <td>5.430000</td>\n",
              "      <td>0.000000</td>\n",
              "      <td>0.000000</td>\n",
              "      <td>1.000000</td>\n",
              "    </tr>\n",
              "    <tr>\n",
              "      <th>25%</th>\n",
              "      <td>1.516523</td>\n",
              "      <td>12.907500</td>\n",
              "      <td>2.115000</td>\n",
              "      <td>1.190000</td>\n",
              "      <td>72.280000</td>\n",
              "      <td>0.122500</td>\n",
              "      <td>8.240000</td>\n",
              "      <td>0.000000</td>\n",
              "      <td>0.000000</td>\n",
              "      <td>1.000000</td>\n",
              "    </tr>\n",
              "    <tr>\n",
              "      <th>50%</th>\n",
              "      <td>1.517680</td>\n",
              "      <td>13.300000</td>\n",
              "      <td>3.480000</td>\n",
              "      <td>1.360000</td>\n",
              "      <td>72.790000</td>\n",
              "      <td>0.555000</td>\n",
              "      <td>8.600000</td>\n",
              "      <td>0.000000</td>\n",
              "      <td>0.000000</td>\n",
              "      <td>2.000000</td>\n",
              "    </tr>\n",
              "    <tr>\n",
              "      <th>75%</th>\n",
              "      <td>1.519157</td>\n",
              "      <td>13.825000</td>\n",
              "      <td>3.600000</td>\n",
              "      <td>1.630000</td>\n",
              "      <td>73.087500</td>\n",
              "      <td>0.610000</td>\n",
              "      <td>9.172500</td>\n",
              "      <td>0.000000</td>\n",
              "      <td>0.100000</td>\n",
              "      <td>3.000000</td>\n",
              "    </tr>\n",
              "    <tr>\n",
              "      <th>max</th>\n",
              "      <td>1.533930</td>\n",
              "      <td>17.380000</td>\n",
              "      <td>4.490000</td>\n",
              "      <td>3.500000</td>\n",
              "      <td>75.410000</td>\n",
              "      <td>6.210000</td>\n",
              "      <td>16.190000</td>\n",
              "      <td>3.150000</td>\n",
              "      <td>0.510000</td>\n",
              "      <td>7.000000</td>\n",
              "    </tr>\n",
              "  </tbody>\n",
              "</table>\n",
              "</div>"
            ],
            "text/plain": [
              "               RI          Na          Mg  ...          Ba          Fe        Type\n",
              "count  214.000000  214.000000  214.000000  ...  214.000000  214.000000  214.000000\n",
              "mean     1.518365   13.407850    2.684533  ...    0.175047    0.057009    2.780374\n",
              "std      0.003037    0.816604    1.442408  ...    0.497219    0.097439    2.103739\n",
              "min      1.511150   10.730000    0.000000  ...    0.000000    0.000000    1.000000\n",
              "25%      1.516523   12.907500    2.115000  ...    0.000000    0.000000    1.000000\n",
              "50%      1.517680   13.300000    3.480000  ...    0.000000    0.000000    2.000000\n",
              "75%      1.519157   13.825000    3.600000  ...    0.000000    0.100000    3.000000\n",
              "max      1.533930   17.380000    4.490000  ...    3.150000    0.510000    7.000000\n",
              "\n",
              "[8 rows x 10 columns]"
            ]
          },
          "metadata": {},
          "execution_count": 69
        }
      ]
    },
    {
      "cell_type": "markdown",
      "metadata": {
        "id": "0CyceMbo_x2e"
      },
      "source": [
        "# 3. Data Visulization"
      ]
    },
    {
      "cell_type": "code",
      "metadata": {
        "colab": {
          "base_uri": "https://localhost:8080/",
          "height": 0
        },
        "id": "2s6xag2NUBj3",
        "outputId": "9fc955d9-9b9d-4196-d35e-0ffee50a1ee6"
      },
      "source": [
        "dataset[\"Type\"].value_counts()"
      ],
      "execution_count": 70,
      "outputs": [
        {
          "output_type": "execute_result",
          "data": {
            "text/plain": [
              "2    76\n",
              "1    70\n",
              "7    29\n",
              "3    17\n",
              "5    13\n",
              "6     9\n",
              "Name: Type, dtype: int64"
            ]
          },
          "metadata": {},
          "execution_count": 70
        }
      ]
    },
    {
      "cell_type": "code",
      "metadata": {
        "colab": {
          "base_uri": "https://localhost:8080/",
          "height": 378
        },
        "id": "055OPbUf_zXw",
        "outputId": "ada7506c-1ca2-4f91-8860-071d2a0a0c20"
      },
      "source": [
        "sns.countplot(x=dataset['Type'])"
      ],
      "execution_count": 71,
      "outputs": [
        {
          "output_type": "execute_result",
          "data": {
            "text/plain": [
              "<matplotlib.axes._subplots.AxesSubplot at 0x7f005bc3bdd0>"
            ]
          },
          "metadata": {},
          "execution_count": 71
        },
        {
          "output_type": "display_data",
          "data": {
            "image/png": "[encoded data removed]",
            "text/plain": [
              "<Figure size 576x396 with 1 Axes>"
            ]
          },
          "metadata": {}
        }
      ]
    },
    {
      "cell_type": "markdown",
      "metadata": {
        "id": "85TCX75KSWvv"
      },
      "source": [
        "## 3.1 Glass Types Distribution Pie Chart"
      ]
    },
    {
      "cell_type": "code",
      "metadata": {
        "colab": {
          "base_uri": "https://localhost:8080/",
          "height": 483
        },
        "id": "1MrT9rQISncG",
        "outputId": "6f088135-0417-497c-8b28-5f77dcaaac56"
      },
      "source": [
        "plt.style.use(\"seaborn\")\n",
        "fig, ax = plt.subplots(figsize=(10,8))\n",
        "\n",
        "plt.pie(x=dataset[\"Type\"].value_counts(), \n",
        "        labels=[\"Type 2\", \"Type 1\", \"Type 7\", \"Type 3\", \"Type 5\", \"Type 6\"],\n",
        "        shadow = True, \n",
        "        autopct=\"%1.2f%%\", \n",
        "        )\n",
        "plt.title(\"Glass Types Distribution Pie Chart\",fontsize=15)\n",
        "plt.show()"
      ],
      "execution_count": 72,
      "outputs": [
        {
          "output_type": "display_data",
          "data": {
            "image/png": "[encoded data removed]",
            "text/plain": [
              "<Figure size 720x576 with 1 Axes>"
            ]
          },
          "metadata": {}
        }
      ]
    },
    {
      "cell_type": "markdown",
      "metadata": {
        "id": "DBlE7OyZUg-P"
      },
      "source": [
        "## 3.2 Features Visualisation"
      ]
    },
    {
      "cell_type": "code",
      "metadata": {
        "colab": {
          "base_uri": "https://localhost:8080/",
          "height": 3185
        },
        "id": "N_3ATdatUtNf",
        "outputId": "e080e8a3-59f7-41fe-e254-b9a133c40114"
      },
      "source": [
        "for column in dataset.columns[:-1]:\n",
        "  sns.displot(dataset[column], color= 'g')\n",
        "  plt.grid(True)\n",
        "  plt.show()\n"
      ],
      "execution_count": 73,
      "outputs": [
        {
          "output_type": "display_data",
          "data": {
            "image/png": "[encoded data removed]",
            "text/plain": [
              "<Figure size 360x360 with 1 Axes>"
            ]
          },
          "metadata": {}
        },
        {
          "output_type": "display_data",
          "data": {
            "image/png": "[encoded data removed]",
            "text/plain": [
              "<Figure size 360x360 with 1 Axes>"
            ]
          },
          "metadata": {}
        },
        {
          "output_type": "display_data",
          "data": {
            "image/png": "[encoded data removed]",
            "text/plain": [
              "<Figure size 360x360 with 1 Axes>"
            ]
          },
          "metadata": {}
        },
        {
          "output_type": "display_data",
          "data": {
            "image/png": "[encoded data removed]",
            "text/plain": [
              "<Figure size 360x360 with 1 Axes>"
            ]
          },
          "metadata": {}
        },
        {
          "output_type": "display_data",
          "data": {
            "image/png": "[encoded data removed]",
            "text/plain": [
              "<Figure size 360x360 with 1 Axes>"
            ]
          },
          "metadata": {}
        },
        {
          "output_type": "display_data",
          "data": {
            "image/png": "[encoded data removed]",
            "text/plain": [
              "<Figure size 360x360 with 1 Axes>"
            ]
          },
          "metadata": {}
        },
        {
          "output_type": "display_data",
          "data": {
            "image/png": "[encoded data removed]",
            "text/plain": [
              "<Figure size 360x360 with 1 Axes>"
            ]
          },
          "metadata": {}
        },
        {
          "output_type": "display_data",
          "data": {
            "image/png": "[encoded data removed]",
            "text/plain": [
              "<Figure size 360x360 with 1 Axes>"
            ]
          },
          "metadata": {}
        },
        {
          "output_type": "display_data",
          "data": {
            "image/png": "[encoded data removed]",
            "text/plain": [
              "<Figure size 360x360 with 1 Axes>"
            ]
          },
          "metadata": {}
        }
      ]
    },
    {
      "cell_type": "markdown",
      "metadata": {
        "id": "pN3sK3ZtBGpw"
      },
      "source": [
        "# 4. Separating features and target column"
      ]
    },
    {
      "cell_type": "code",
      "metadata": {
        "id": "_yGjaPAzBUgG"
      },
      "source": [
        "# Separating Features and Label\n",
        "x=dataset.drop(columns=['Type'])\n",
        "y=dataset['Type']"
      ],
      "execution_count": 74,
      "outputs": []
    },
    {
      "cell_type": "markdown",
      "metadata": {
        "id": "3H_BxVx91r2D"
      },
      "source": [
        "# 5. Splitting dataset in train data and test data"
      ]
    },
    {
      "cell_type": "code",
      "metadata": {
        "id": "PMG4tMjyB37o"
      },
      "source": [
        "# splitting dataset in train data and test data\n",
        "from sklearn.model_selection import train_test_split\n",
        "xtrain,xtest,ytrain,ytest=train_test_split(x,y,test_size=0.2,random_state=4)"
      ],
      "execution_count": 75,
      "outputs": []
    },
    {
      "cell_type": "markdown",
      "metadata": {
        "id": "Uc-mYJohCT8L"
      },
      "source": [
        "# 6.Classification Models"
      ]
    },
    {
      "cell_type": "markdown",
      "metadata": {
        "id": "cpC7RBLuCZI3"
      },
      "source": [
        "## 6.1 Logistic Regression"
      ]
    },
    {
      "cell_type": "code",
      "metadata": {
        "id": "w4nTs_IwCfDm"
      },
      "source": [
        "# as accuracy is very less we use scalling\n",
        "from sklearn.preprocessing import StandardScaler\n",
        "scale=StandardScaler()\n",
        "scale_xtrain=scale.fit_transform(xtrain)\n",
        "scale_xtest=scale.fit_transform(xtest)"
      ],
      "execution_count": 76,
      "outputs": []
    },
    {
      "cell_type": "code",
      "metadata": {
        "id": "gH1btwvBCpX2"
      },
      "source": [
        "# training and fitting model\n",
        "from sklearn.linear_model import LogisticRegression\n",
        "model=LogisticRegression()\n",
        "model.fit(scale_xtrain,ytrain)\n",
        "ypred1=model.predict(scale_xtest)"
      ],
      "execution_count": 77,
      "outputs": []
    },
    {
      "cell_type": "code",
      "metadata": {
        "colab": {
          "base_uri": "https://localhost:8080/",
          "height": 0
        },
        "id": "FBexZNAYANk3",
        "outputId": "eeb4e21d-6b09-45f0-e8c7-64f8570d705e"
      },
      "source": [
        "# Evaluation of Model\n",
        "from sklearn.metrics import accuracy_score, mean_squared_error, f1_score, precision_score\n",
        "\n",
        "lg_acc = accuracy_score(ytest, ypred1)\n",
        "lg_mse = mean_squared_error(ytest, ypred1)\n",
        "lg_f1 = f1_score(ytest, ypred1, average='macro')\n",
        "lg_precision = precision_score(ytest, ypred1, average='macro')\n",
        "\n",
        "print('Accuracy is: %.4f' % lg_acc)\n",
        "print('Mean Squared Error is: %.4f' % lg_mse)\n",
        "print('F1 Score is: %.4f' % lg_f1)\n",
        "print('Precision Score is:  %.4f' % lg_precision)"
      ],
      "execution_count": 78,
      "outputs": [
        {
          "output_type": "stream",
          "name": "stdout",
          "text": [
            "Accuracy is: 0.8140\n",
            "Mean Squared Error is: 1.1628\n",
            "F1 Score is: 0.6593\n",
            "Precision Score is:  0.7039\n"
          ]
        }
      ]
    },
    {
      "cell_type": "markdown",
      "metadata": {
        "id": "XC0k7BtKEv7e"
      },
      "source": [
        "## 6.2 KNN (k-nearest neighbors)\n",
        "\n",
        "\n"
      ]
    },
    {
      "cell_type": "code",
      "metadata": {
        "id": "i8vx1R5SE60H"
      },
      "source": [
        "# training and fitting model\n",
        "from sklearn.neighbors import KNeighborsClassifier\n",
        "model=KNeighborsClassifier()\n",
        "model.fit(xtrain,ytrain)\n",
        "ypred2=model.predict(xtest)"
      ],
      "execution_count": 79,
      "outputs": []
    },
    {
      "cell_type": "code",
      "metadata": {
        "colab": {
          "base_uri": "https://localhost:8080/",
          "height": 0
        },
        "id": "tviIjzS7FMRV",
        "outputId": "1559fe4a-286a-407a-e642-8c906e858d50"
      },
      "source": [
        "# Evaluation of Model\n",
        "from sklearn.metrics import accuracy_score, mean_squared_error, f1_score, precision_score\n",
        "\n",
        "knn_acc = accuracy_score(ytest,ypred2)\n",
        "knn_mse = mean_squared_error(ytest, ypred2)\n",
        "knn_f1 = f1_score(ytest, ypred2, average='macro')\n",
        "knn_precision = precision_score(ytest, ypred2, average='macro')\n",
        "\n",
        "\n",
        "print('Accuracy is: %.4f' % knn_acc)\n",
        "print('Mean Squared Error is: %.4f' % knn_mse)\n",
        "print('F1 Score is: %.4f' % knn_f1)\n",
        "print('Precision Score is:  %.4f' % knn_precision)\n"
      ],
      "execution_count": 80,
      "outputs": [
        {
          "output_type": "stream",
          "name": "stdout",
          "text": [
            "Accuracy is: 0.7674\n",
            "Mean Squared Error is: 1.3953\n",
            "F1 Score is: 0.6179\n",
            "Precision Score is:  0.6512\n"
          ]
        }
      ]
    },
    {
      "cell_type": "markdown",
      "metadata": {
        "id": "tvJ3D_EpFj6Q"
      },
      "source": [
        "## 6.3 SVC Support Vector Classifier\n"
      ]
    },
    {
      "cell_type": "code",
      "metadata": {
        "id": "193SsIJNFoTm"
      },
      "source": [
        "# training and fitting model\n",
        "from sklearn.svm import SVC\n",
        "model=SVC(kernel=\"linear\")\n",
        "model.fit(scale_xtrain,ytrain)\n",
        "ypred3=model.predict(scale_xtest)"
      ],
      "execution_count": 81,
      "outputs": []
    },
    {
      "cell_type": "code",
      "metadata": {
        "colab": {
          "base_uri": "https://localhost:8080/",
          "height": 0
        },
        "id": "zHQNtFLKF3DG",
        "outputId": "595b2b2a-e7b6-49f4-fff2-98bc56fe1aaa"
      },
      "source": [
        "# Evaluation of Model\n",
        "from sklearn.metrics import accuracy_score, mean_squared_error, f1_score, precision_score\n",
        "\n",
        "svc_acc = accuracy_score(ytest,ypred3)\n",
        "svc_mse = mean_squared_error(ytest, ypred3)\n",
        "svc_f1 = f1_score(ytest, ypred3, average='macro')\n",
        "svc_precision = precision_score(ytest, ypred3, average='macro')\n",
        "\n",
        "\n",
        "print('Accuracy is: %.4f' % svc_acc)\n",
        "print('Mean Squared Error is: %.4f' % svc_mse)\n",
        "print('F1 Score is: %.4f' % svc_f1)\n",
        "print('Precision Score is:  %.4f' % svc_precision)\n",
        "\n",
        "\n",
        "\n"
      ],
      "execution_count": 82,
      "outputs": [
        {
          "output_type": "stream",
          "name": "stdout",
          "text": [
            "Accuracy is: 0.8372\n",
            "Mean Squared Error is: 0.7907\n",
            "F1 Score is: 0.7307\n",
            "Precision Score is:  0.7130\n"
          ]
        }
      ]
    },
    {
      "cell_type": "markdown",
      "metadata": {
        "id": "nHNJcy-jF98m"
      },
      "source": [
        "## 6.4 Naive Byes\n"
      ]
    },
    {
      "cell_type": "code",
      "metadata": {
        "id": "GRvkzNXhGE8V"
      },
      "source": [
        "# training and fitting model\n",
        "from sklearn.naive_bayes import GaussianNB\n",
        "model=GaussianNB()\n",
        "model.fit(xtrain,ytrain)\n",
        "ypred4=model.predict(xtest)"
      ],
      "execution_count": 83,
      "outputs": []
    },
    {
      "cell_type": "code",
      "metadata": {
        "colab": {
          "base_uri": "https://localhost:8080/",
          "height": 0
        },
        "id": "eANaSMkeGRVt",
        "outputId": "eb22f53e-468a-454d-f3a4-b6315b962932"
      },
      "source": [
        "# Evaluation of Model\n",
        "from sklearn.metrics import accuracy_score, mean_squared_error, f1_score, precision_score\n",
        "\n",
        "GNB_acc = accuracy_score(ytest,ypred4)\n",
        "GNB_mse = mean_squared_error(ytest, ypred4)\n",
        "GNB_f1 = f1_score(ytest, ypred4, average='macro')\n",
        "GNB_precision = precision_score(ytest, ypred4, average='macro')\n",
        "\n",
        "\n",
        "print('Accuracy is: %.4f' % GNB_acc)\n",
        "print('Mean Squared Error is: %.4f' % GNB_mse)\n",
        "print('F1 Score is: %.4f' % GNB_f1)\n",
        "print('Precision Score is:  %.4f' % GNB_precision)\n"
      ],
      "execution_count": 84,
      "outputs": [
        {
          "output_type": "stream",
          "name": "stdout",
          "text": [
            "Accuracy is: 0.4884\n",
            "Mean Squared Error is: 1.3488\n",
            "F1 Score is: 0.4368\n",
            "Precision Score is:  0.5109\n"
          ]
        }
      ]
    },
    {
      "cell_type": "markdown",
      "metadata": {
        "id": "qUg7CnbQG89p"
      },
      "source": [
        "## 6.5 Decision Tree Classifier"
      ]
    },
    {
      "cell_type": "code",
      "metadata": {
        "id": "lfEigv4DHBtm"
      },
      "source": [
        "from sklearn.tree import DecisionTreeClassifier\n",
        "model=DecisionTreeClassifier()\n",
        "model.fit(xtrain,ytrain)\n",
        "ypred5=model.predict(xtest)"
      ],
      "execution_count": 85,
      "outputs": []
    },
    {
      "cell_type": "code",
      "metadata": {
        "colab": {
          "base_uri": "https://localhost:8080/",
          "height": 0
        },
        "id": "P8Af3amzHFnP",
        "outputId": "f76a3467-4aa4-40e9-ae1e-384952a110b8"
      },
      "source": [
        "from sklearn.metrics import accuracy_score, mean_squared_error, f1_score, precision_score\n",
        "\n",
        "Dt_acc = accuracy_score(ytest,ypred5)\n",
        "Dt_mse = mean_squared_error(ytest, ypred5)\n",
        "Dt_f1 = f1_score(ytest, ypred5, average='macro')\n",
        "Dt_precision = precision_score(ytest, ypred5, average='macro', zero_division=1)\n",
        "\n",
        "\n",
        "print('Accuracy is: %.4f' % Dt_acc)\n",
        "print('Mean Squared Error is: %.4f' % Dt_mse)\n",
        "print('F1 Score is: %.4f' % Dt_f1)\n",
        "print('Precision Score is:  %.4f' % Dt_precision)\n"
      ],
      "execution_count": 86,
      "outputs": [
        {
          "output_type": "stream",
          "name": "stdout",
          "text": [
            "Accuracy is: 0.7907\n",
            "Mean Squared Error is: 1.9535\n",
            "F1 Score is: 0.5085\n",
            "Precision Score is:  0.6886\n"
          ]
        }
      ]
    },
    {
      "cell_type": "markdown",
      "metadata": {
        "id": "ApEKAazLHMbh"
      },
      "source": [
        "## 6.6 Random Forest Classifier"
      ]
    },
    {
      "cell_type": "code",
      "metadata": {
        "id": "lYWvNPaqHPUh"
      },
      "source": [
        "from sklearn.ensemble import RandomForestClassifier\n",
        "model=RandomForestClassifier(n_estimators=20)\n",
        "model.fit(xtrain,ytrain)\n",
        "ypred6=model.predict(xtest)"
      ],
      "execution_count": 87,
      "outputs": []
    },
    {
      "cell_type": "code",
      "metadata": {
        "colab": {
          "base_uri": "https://localhost:8080/",
          "height": 0
        },
        "id": "N1EYyMrUHS1h",
        "outputId": "9534ca6b-9405-4197-d5ad-404236ca5455"
      },
      "source": [
        "from sklearn.metrics import accuracy_score, mean_squared_error, f1_score, precision_score\n",
        "\n",
        "RFC_acc = accuracy_score(ytest,ypred6)\n",
        "RFC_mse = mean_squared_error(ytest, ypred6)\n",
        "RFC_f1 = f1_score(ytest, ypred6, average='macro')\n",
        "RFC_precision = precision_score(ytest, ypred6, average='macro', zero_division=1)\n",
        "\n",
        "\n",
        "print('Accuracy is: %.4f' % RFC_acc)\n",
        "print('Mean Squared Error is: %.4f' % RFC_mse)\n",
        "print('F1 Score is: %.4f' % RFC_f1)\n",
        "print('Precision Score is:  %.4f' % RFC_precision)"
      ],
      "execution_count": 88,
      "outputs": [
        {
          "output_type": "stream",
          "name": "stdout",
          "text": [
            "Accuracy is: 0.9070\n",
            "Mean Squared Error is: 0.8837\n",
            "F1 Score is: 0.7829\n",
            "Precision Score is:  0.8528\n"
          ]
        }
      ]
    },
    {
      "cell_type": "markdown",
      "metadata": {
        "id": "-XjpshfbI2vG"
      },
      "source": [
        "#7. Comparing the accuracy of different models"
      ]
    },
    {
      "cell_type": "code",
      "metadata": {
        "id": "ap1_6t7TT2OZ"
      },
      "source": [
        "models=[(\"LogisticRegression\",lg_acc),\n",
        "        (\"KNeighborsClassifier\",knn_acc),\n",
        "        (\"SVM\",svc_acc),\n",
        "        (\"GuessinNB\",GNB_acc),\n",
        "        (\"DecisionTree\",Dt_acc),\n",
        "        (\"RanodmForest\",RFC_acc),\n",
        "        \n",
        "]"
      ],
      "execution_count": 94,
      "outputs": []
    },
    {
      "cell_type": "code",
      "metadata": {
        "colab": {
          "base_uri": "https://localhost:8080/",
          "height": 235
        },
        "id": "gigpTbEuT17a",
        "outputId": "0e1391db-2d46-492a-ed38-b9e426541ee3"
      },
      "source": [
        "predict_percent = pd.DataFrame(data = models, columns=['Model', \"Accuracy\"])\n",
        "predict_percent"
      ],
      "execution_count": 95,
      "outputs": [
        {
          "output_type": "execute_result",
          "data": {
            "text/html": [
              "<div>\n",
              "<style scoped>\n",
              "    .dataframe tbody tr th:only-of-type {\n",
              "        vertical-align: middle;\n",
              "    }\n",
              "\n",
              "    .dataframe tbody tr th {\n",
              "        vertical-align: top;\n",
              "    }\n",
              "\n",
              "    .dataframe thead th {\n",
              "        text-align: right;\n",
              "    }\n",
              "</style>\n",
              "<table border=\"1\" class=\"dataframe\">\n",
              "  <thead>\n",
              "    <tr style=\"text-align: right;\">\n",
              "      <th></th>\n",
              "      <th>Model</th>\n",
              "      <th>Accuracy</th>\n",
              "    </tr>\n",
              "  </thead>\n",
              "  <tbody>\n",
              "    <tr>\n",
              "      <th>0</th>\n",
              "      <td>LogisticRegression</td>\n",
              "      <td>0.813953</td>\n",
              "    </tr>\n",
              "    <tr>\n",
              "      <th>1</th>\n",
              "      <td>KNeighborsClassifier</td>\n",
              "      <td>0.767442</td>\n",
              "    </tr>\n",
              "    <tr>\n",
              "      <th>2</th>\n",
              "      <td>SVM</td>\n",
              "      <td>0.837209</td>\n",
              "    </tr>\n",
              "    <tr>\n",
              "      <th>3</th>\n",
              "      <td>GuessinNB</td>\n",
              "      <td>0.488372</td>\n",
              "    </tr>\n",
              "    <tr>\n",
              "      <th>4</th>\n",
              "      <td>DecisionTree</td>\n",
              "      <td>0.790698</td>\n",
              "    </tr>\n",
              "    <tr>\n",
              "      <th>5</th>\n",
              "      <td>RanodmForest</td>\n",
              "      <td>0.906977</td>\n",
              "    </tr>\n",
              "  </tbody>\n",
              "</table>\n",
              "</div>"
            ],
            "text/plain": [
              "                  Model  Accuracy\n",
              "0    LogisticRegression  0.813953\n",
              "1  KNeighborsClassifier  0.767442\n",
              "2                   SVM  0.837209\n",
              "3             GuessinNB  0.488372\n",
              "4          DecisionTree  0.790698\n",
              "5          RanodmForest  0.906977"
            ]
          },
          "metadata": {},
          "execution_count": 95
        }
      ]
    },
    {
      "cell_type": "code",
      "metadata": {
        "colab": {
          "base_uri": "https://localhost:8080/",
          "height": 588
        },
        "id": "gw_Ng69tUWtS",
        "outputId": "6cef8a58-184b-4907-d24e-72f9641758fe"
      },
      "source": [
        "# plogttin bargraph of r2score of each model\n",
        "f, axe = plt.subplots(1,1, figsize=(15,10))\n",
        "predict_percent.sort_values(by=['Accuracy'], ascending=False, inplace=True)\n",
        "\n",
        "sns.barplot(x='Accuracy', y='Model', data = predict_percent, ax = axe)\n",
        "axe.set_xticks(np.arange(0, 1.1, 0.1))\n",
        "plt.show()"
      ],
      "execution_count": 92,
      "outputs": [
        {
          "output_type": "display_data",
          "data": {
            "image/png": "[encoded data removed]",
            "text/plain": [
              "<Figure size 1080x720 with 1 Axes>"
            ]
          },
          "metadata": {}
        }
      ]
    }
  ]
}